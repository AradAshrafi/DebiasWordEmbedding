{
 "cells": [
  {
   "cell_type": "markdown",
   "metadata": {},
   "source": [
    "# Word Embedding Evaluations\n",
    "## Import Statements"
   ]
  },
  {
   "cell_type": "code",
   "execution_count": 1,
   "metadata": {},
   "outputs": [],
   "source": [
    "from utils import *\n",
    "from cluster import *\n",
    "import codecs"
   ]
  },
  {
   "cell_type": "markdown",
   "metadata": {},
   "source": [
    "## Load Embeddings"
   ]
  },
  {
   "cell_type": "code",
   "execution_count": 8,
   "metadata": {},
   "outputs": [],
   "source": [
    "# load regular glove\n",
    "glove_wv, glove_w2i, glove_vocab = load_embedding('data/glove.txt')\n",
    "\n",
    "# load hard debiased glove\n",
    "hd_glove_wv, hd_glove_w2i, hd_glove_vocab = load_embedding('data/hard_debias.txt')"
   ]
  },
  {
   "cell_type": "markdown",
   "metadata": {},
   "source": [
    "## WEAT test"
   ]
  },
  {
   "cell_type": "code",
   "execution_count": 3,
   "metadata": {},
   "outputs": [],
   "source": [
    "# load word lists for tests\n",
    "# start with the male and female names\n",
    "A = [name.lower() for name in WEAT_words['A']]\n",
    "B = [name.lower() for name in WEAT_words['B']]\n",
    "# career and family\n",
    "C = WEAT_words['C']\n",
    "D = WEAT_words['D']\n",
    "# math and arts\n",
    "E = WEAT_words['E']\n",
    "F = WEAT_words['F']\n",
    "# science and arts\n",
    "G = WEAT_words['G']\n",
    "H = WEAT_words['H']"
   ]
  },
  {
   "cell_type": "markdown",
   "metadata": {},
   "source": [
    "### Glove"
   ]
  },
  {
   "cell_type": "code",
   "execution_count": 12,
   "metadata": {},
   "outputs": [
    {
     "name": "stdout",
     "output_type": "stream",
     "text": [
      "Career and Family\n",
      "1.8440745886996364\n",
      "num of samples 12870\n",
      "0.0\n",
      "Math and Arts\n",
      "0.7598566596555253\n",
      "num of samples 12870\n",
      "0.06767676767676768\n",
      "Science and Arts\n",
      "1.0550881121697777\n",
      "num of samples 12870\n",
      "0.014063714063714063\n"
     ]
    }
   ],
   "source": [
    "# calculate effect size and p value for career and family\n",
    "print('Career and Family')\n",
    "print(effect_size(A, B, C, D, glove_wv, glove_w2i, glove_vocab))\n",
    "print(p_value_test(A, B, C, D, glove_wv, glove_w2i, glove_vocab))\n",
    "\n",
    "# calculate effect size and p value for math and arts\n",
    "print('Math and Arts')\n",
    "print(effect_size(A, B, E, F, glove_wv, glove_w2i, glove_vocab))\n",
    "print(p_value_test(A, B, E, F, glove_wv, glove_w2i, glove_vocab))\n",
    "\n",
    "# calculate effect size and p value for science and arts\n",
    "print('Science and Arts')\n",
    "print(effect_size(A, B, G, H, glove_wv, glove_w2i, glove_vocab))\n",
    "print(p_value_test(A, B, G, H, glove_wv, glove_w2i, glove_vocab))"
   ]
  },
  {
   "cell_type": "markdown",
   "metadata": {},
   "source": [
    "### Hard Debias Glove"
   ]
  },
  {
   "cell_type": "code",
   "execution_count": 13,
   "metadata": {},
   "outputs": [
    {
     "name": "stdout",
     "output_type": "stream",
     "text": [
      "Career and Family\n",
      "1.6177007410709874\n",
      "num of samples 12870\n",
      "7.77000777000777e-05\n",
      "Math and Arts\n",
      "0.1489070026968469\n",
      "num of samples 12870\n",
      "0.38578088578088576\n",
      "Science and Arts\n",
      "0.08429122526252406\n",
      "num of samples 12870\n",
      "0.43496503496503497\n"
     ]
    }
   ],
   "source": [
    "# calculate effect size and p value for career and family\n",
    "print('Career and Family')\n",
    "print(effect_size(A, B, C, D, hd_glove_wv, hd_glove_w2i, hd_glove_vocab))\n",
    "print(p_value_test(A, B, C, D, hd_glove_wv, hd_glove_w2i, hd_glove_vocab))\n",
    "\n",
    "# calculate effect size and p value for math and arts\n",
    "print('Math and Arts')\n",
    "print(effect_size(A, B, E, F, hd_glove_wv, hd_glove_w2i, hd_glove_vocab))\n",
    "print(p_value_test(A, B, E, F, hd_glove_wv, hd_glove_w2i, hd_glove_vocab))\n",
    "\n",
    "# calculate effect size and p value for science and arts\n",
    "print('Science and Arts')\n",
    "print(effect_size(A, B, G, H, hd_glove_wv, hd_glove_w2i, hd_glove_vocab))\n",
    "print(p_value_test(A, B, G, H, hd_glove_wv, hd_glove_w2i, hd_glove_vocab))"
   ]
  },
  {
   "cell_type": "markdown",
   "metadata": {},
   "source": [
    "## Clustering"
   ]
  },
  {
   "cell_type": "code",
   "execution_count": 15,
   "metadata": {},
   "outputs": [
    {
     "name": "stdout",
     "output_type": "stream",
     "text": [
      "size of vocabulary: 47628\n",
      "size of vocabulary: 47628\n"
     ]
    }
   ],
   "source": [
    "# limit vocab by excluding words that 'should' have gender bias\n",
    "gender_specific = []\n",
    "\n",
    "with open('./data/male_words.txt') as f:\n",
    "    for l in f:\n",
    "        gender_specific.append(l.strip())\n",
    "with open('./data/female_words.txt') as f:\n",
    "    for l in f:\n",
    "        gender_specific.append(l.strip())\n",
    "\n",
    "with codecs.open('./data/gender_specific_full.json') as f:\n",
    "    gender_specific.extend(json.load(f))\n",
    "\n",
    "glove_vocab_limit, glove_wv_limit, glove_w2i_limit = limit_vocab(glove_wv, glove_w2i, glove_vocab, exclude=gender_specific)\n",
    "hd_glove_vocab_limit, hd_glove_wv_limit, hd_glove_w2i_limit = limit_vocab(hd_glove_wv, hd_glove_w2i, hd_glove_vocab, exclude=gender_specific)"
   ]
  },
  {
   "cell_type": "code",
   "execution_count": 6,
   "metadata": {},
   "outputs": [],
   "source": [
    "# get most biased words\n",
    "he_vector = glove_wv[glove_w2i['he'], :]\n",
    "she_vector = glove_wv[glove_w2i['she'], :]\n",
    "biased_words = compute_word_bias(glove_wv_limit, glove_w2i_limit, glove_vocab_limit, he_vector, she_vector)"
   ]
  },
  {
   "cell_type": "markdown",
   "metadata": {},
   "source": [
    "### Glove"
   ]
  },
  {
   "cell_type": "code",
   "execution_count": 7,
   "metadata": {},
   "outputs": [
    {
     "name": "stdout",
     "output_type": "stream",
     "text": [
      "precision 1.0\n",
      "precision 1.0\n",
      "precision 0.9995\n"
     ]
    }
   ],
   "source": [
    "# cluster using limited vocabulary\n",
    "for n in [100, 500, 1000]:\n",
    "    my_cluster(glove_wv_limit, glove_w2i_limit, 1, glove_vocab_limit, biased_words, num_biased_words=n)"
   ]
  },
  {
   "cell_type": "markdown",
   "metadata": {},
   "source": [
    "### Hard Debias Glove"
   ]
  },
  {
   "cell_type": "code",
   "execution_count": 17,
   "metadata": {},
   "outputs": [
    {
     "name": "stdout",
     "output_type": "stream",
     "text": [
      "precision 0.76\n",
      "precision 0.8\n",
      "precision 0.8\n"
     ]
    }
   ],
   "source": [
    "# cluster using limited vocabulary\n",
    "for n in [100, 500, 1000]:\n",
    "    my_cluster(hd_glove_wv_limit, hd_glove_w2i_limit, 1, hd_glove_vocab_limit, biased_words, num_biased_words=n)"
   ]
  },
  {
   "cell_type": "code",
   "execution_count": null,
   "metadata": {},
   "outputs": [],
   "source": []
  }
 ],
 "metadata": {
  "kernelspec": {
   "display_name": "Python 3",
   "language": "python",
   "name": "python3"
  },
  "language_info": {
   "codemirror_mode": {
    "name": "ipython",
    "version": 3
   },
   "file_extension": ".py",
   "mimetype": "text/x-python",
   "name": "python",
   "nbconvert_exporter": "python",
   "pygments_lexer": "ipython3",
   "version": "3.8.5"
  }
 },
 "nbformat": 4,
 "nbformat_minor": 4
}
