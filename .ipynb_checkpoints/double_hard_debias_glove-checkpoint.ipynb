{
 "cells": [
  {
   "cell_type": "code",
   "execution_count": 1,
   "metadata": {},
   "outputs": [],
   "source": [
    "from double_hard_debias import double_hard_debias"
   ]
  },
  {
   "cell_type": "code",
   "execution_count": 2,
   "metadata": {},
   "outputs": [],
   "source": [
    "embedding_filepath = './data/glove.txt'\n",
    "male_filepath = './data/male_words.txt'\n",
    "female_filepath = './data/female_words.txt'\n",
    "pairs_filepath = './data/definitional_pairs.json'"
   ]
  },
  {
   "cell_type": "code",
   "execution_count": 3,
   "metadata": {},
   "outputs": [
    {
     "name": "stdout",
     "output_type": "stream",
     "text": [
      "Loading word files...\n",
      "Word files loaded\n",
      "Word vectors decentralized and normalized\n",
      "Principal components computed\n",
      "Gender direction found\n",
      "Frequency direction discovered, U[0]\n",
      "Frequency direction removed\n",
      "Gender direction removed\n",
      "Word vectors normalized\n",
      "Complete\n"
     ]
    }
   ],
   "source": [
    "debiased_wv, w2i, vocab = double_hard_debias(embedding_filepath, male_filepath, female_filepath, pairs_filepath)"
   ]
  },
  {
   "cell_type": "code",
   "execution_count": 4,
   "metadata": {},
   "outputs": [],
   "source": [
    "from utils import recreate_embedding\n",
    "recreate_embedding(debiased_wv, vocab, 'double_hard_glove')"
   ]
  },
  {
   "cell_type": "code",
   "execution_count": null,
   "metadata": {},
   "outputs": [],
   "source": []
  }
 ],
 "metadata": {
  "kernelspec": {
   "display_name": "Python 3",
   "language": "python",
   "name": "python3"
  },
  "language_info": {
   "codemirror_mode": {
    "name": "ipython",
    "version": 3
   },
   "file_extension": ".py",
   "mimetype": "text/x-python",
   "name": "python",
   "nbconvert_exporter": "python",
   "pygments_lexer": "ipython3",
   "version": "3.8.5"
  }
 },
 "nbformat": 4,
 "nbformat_minor": 4
}
