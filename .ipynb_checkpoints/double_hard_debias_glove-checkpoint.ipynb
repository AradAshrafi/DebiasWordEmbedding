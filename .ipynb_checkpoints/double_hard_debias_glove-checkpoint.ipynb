{
 "cells": [
  {
   "cell_type": "code",
   "execution_count": 17,
   "metadata": {},
   "outputs": [],
   "source": [
    "from double_hard_debias import double_hard_debias"
   ]
  },
  {
   "cell_type": "code",
   "execution_count": 18,
   "metadata": {},
   "outputs": [],
   "source": [
    "embedding_filepath = './data/glove.txt'\n",
    "male_filepath = './data/male_words.txt'\n",
    "female_filepath = './data/female_words.txt'\n",
    "pairs_filepath = './data/definitional_pairs.json'"
   ]
  },
  {
   "cell_type": "code",
   "execution_count": 19,
   "metadata": {},
   "outputs": [
    {
     "name": "stdout",
     "output_type": "stream",
     "text": [
      "Loading word files...\n",
      "Word files loaded\n",
      "Word vectors decentralized and normalized\n",
      "Principal components computed\n",
      "Gender direction found\n",
      "0.5140664961636828\n",
      "0.5370843989769821\n",
      "0.5319693094629157\n",
      "0.5396419437340153\n",
      "0.5396419437340153\n",
      "0.5242966751918159\n",
      "0.5345268542199488\n",
      "0.5396419437340153\n",
      "0.5396419437340153\n",
      "0.5421994884910486\n",
      "0.5345268542199488\n",
      "0.5447570332480818\n",
      "0.5345268542199488\n",
      "0.5396419437340153\n",
      "0.5345268542199488\n",
      "0.5345268542199488\n",
      "0.5498721227621484\n",
      "0.5421994884910486\n",
      "0.5345268542199488\n",
      "0.5370843989769821\n",
      "Frequency direction discovered, U[0]\n",
      "Frequency direction removed\n",
      "Gender direction removed\n",
      "Word vectors normalized\n",
      "Complete\n"
     ]
    }
   ],
   "source": [
    "debiased_wv = double_hard_debias(embedding_filepath, male_filepath, female_filepath, pairs_filepath)"
   ]
  },
  {
   "cell_type": "code",
   "execution_count": 20,
   "metadata": {},
   "outputs": [],
   "source": [
    "import cluster"
   ]
  },
  {
   "cell_type": "code",
   "execution_count": 21,
   "metadata": {},
   "outputs": [
    {
     "ename": "AttributeError",
     "evalue": "module 'cluster' has no attribute 'test2'",
     "output_type": "error",
     "traceback": [
      "\u001b[0;31m---------------------------------------------------------------------------\u001b[0m",
      "\u001b[0;31mAttributeError\u001b[0m                            Traceback (most recent call last)",
      "\u001b[0;32m<ipython-input-21-698f908c0526>\u001b[0m in \u001b[0;36m<module>\u001b[0;34m\u001b[0m\n\u001b[0;32m----> 1\u001b[0;31m \u001b[0mcluster\u001b[0m\u001b[0;34m.\u001b[0m\u001b[0mtest2\u001b[0m\u001b[0;34m(\u001b[0m\u001b[0;34m)\u001b[0m\u001b[0;34m\u001b[0m\u001b[0;34m\u001b[0m\u001b[0m\n\u001b[0m",
      "\u001b[0;31mAttributeError\u001b[0m: module 'cluster' has no attribute 'test2'"
     ]
    }
   ],
   "source": [
    "cluster.test2()"
   ]
  },
  {
   "cell_type": "code",
   "execution_count": null,
   "metadata": {},
   "outputs": [],
   "source": []
  }
 ],
 "metadata": {
  "kernelspec": {
   "display_name": "Python 3",
   "language": "python",
   "name": "python3"
  },
  "language_info": {
   "codemirror_mode": {
    "name": "ipython",
    "version": 3
   },
   "file_extension": ".py",
   "mimetype": "text/x-python",
   "name": "python",
   "nbconvert_exporter": "python",
   "pygments_lexer": "ipython3",
   "version": "3.8.5"
  }
 },
 "nbformat": 4,
 "nbformat_minor": 4
}
