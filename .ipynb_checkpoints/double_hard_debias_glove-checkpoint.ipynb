{
 "cells": [
  {
   "cell_type": "code",
   "execution_count": 1,
   "metadata": {},
   "outputs": [],
   "source": [
    "from double_hard_debias import double_hard_debias"
   ]
  },
  {
   "cell_type": "code",
   "execution_count": 2,
   "metadata": {},
   "outputs": [],
   "source": [
    "embedding_filepath = './data/glove.txt'\n",
    "male_filepath = './data/male_words.txt'\n",
    "female_filepath = './data/female_words.txt'\n",
    "pairs_filepath = './data/definitional_pairs.json'\n",
    "gender_specific_filepath = './data/gender_specific_full.json'"
   ]
  },
  {
   "cell_type": "code",
   "execution_count": 3,
   "metadata": {},
   "outputs": [
    {
     "name": "stdout",
     "output_type": "stream",
     "text": [
      "Loading word files...\n",
      "Word files loaded\n",
      "Word vectors decentralized and normalized\n",
      "size of vocabulary: 47628\n",
      "Most gender biased words found\n",
      "Principal components computed\n",
      "Gender direction found\n",
      "0.7632065171747712\n",
      "0.7436381960191484\n",
      "0.7437011841773746\n",
      "0.7425673973293021\n",
      "0.7382422104644326\n",
      "0.5244813974972705\n",
      "0.7350298143948938\n",
      "0.7406987486352565\n",
      "0.7398799025783153\n",
      "0.7387251196775007\n",
      "0.7434702275972117\n",
      "0.7406987486352565\n",
      "0.7407407407407407\n",
      "0.7402368354749307\n",
      "0.7401108591584782\n",
      "0.7423154446963971\n",
      "0.7397119341563786\n",
      "0.7403838078441253\n",
      "0.7407197446879987\n",
      "0.7413706223230033\n",
      "Frequency direction discovered, U[5]\n",
      "Frequency direction removed\n",
      "Gender direction removed\n",
      "Complete\n"
     ]
    }
   ],
   "source": [
    "debiased_wv, w2i, vocab = double_hard_debias(embedding_filepath, male_filepath, female_filepath, \\\n",
    "                                             gender_specific_filepath, pairs_filepath)"
   ]
  },
  {
   "cell_type": "code",
   "execution_count": 4,
   "metadata": {},
   "outputs": [
    {
     "name": "stdout",
     "output_type": "stream",
     "text": [
      "(322636, 300)\n"
     ]
    }
   ],
   "source": [
    "print(debiased_wv.shape)"
   ]
  },
  {
   "cell_type": "code",
   "execution_count": 5,
   "metadata": {},
   "outputs": [],
   "source": [
    "from utils import recreate_embedding\n",
    "recreate_embedding(debiased_wv, vocab, 'double_hard_glove')"
   ]
  },
  {
   "cell_type": "code",
   "execution_count": null,
   "metadata": {},
   "outputs": [],
   "source": []
  }
 ],
 "metadata": {
  "kernelspec": {
   "display_name": "Python 3",
   "language": "python",
   "name": "python3"
  },
  "language_info": {
   "codemirror_mode": {
    "name": "ipython",
    "version": 3
   },
   "file_extension": ".py",
   "mimetype": "text/x-python",
   "name": "python",
   "nbconvert_exporter": "python",
   "pygments_lexer": "ipython3",
   "version": "3.8.5"
  }
 },
 "nbformat": 4,
 "nbformat_minor": 4
}
