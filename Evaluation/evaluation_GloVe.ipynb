{
 "nbformat": 4,
 "nbformat_minor": 0,
 "metadata": {
  "kernelspec": {
   "display_name": "Python 3",
   "language": "python",
   "name": "python3"
  },
  "language_info": {
   "codemirror_mode": {
    "name": "ipython",
    "version": 3
   },
   "file_extension": ".py",
   "mimetype": "text/x-python",
   "name": "python",
   "nbconvert_exporter": "python",
   "pygments_lexer": "ipython3",
   "version": "3.8.5"
  },
  "colab": {
   "name": "evaluation.ipynb",
   "provenance": [],
   "collapsed_sections": [
    "U6-QlET9NJND",
    "lq3N0BSlNJNE",
    "NLhB5HEpNJNF",
    "-l9MmzrcNJNG",
    "6Qo2lhGFNJNH",
    "E940DauyNJNJ"
   ],
   "toc_visible": true
  }
 },
 "cells": [
  {
   "cell_type": "markdown",
   "metadata": {
    "id": "42qcmgqfNJM7"
   },
   "source": [
    "# Word Embedding Evaluations\n",
    "## Import Statements"
   ]
  },
  {
   "cell_type": "code",
   "metadata": {
    "id": "0OIOL13LNJM9",
    "colab": {
     "base_uri": "https://localhost:8080/"
    },
    "outputId": "2b449cd7-8e22-44ad-ddfb-d7227408f91c"
   },
   "source": [
    "from utils import *\n",
    "from cluster import *\n",
    "import codecs\n"
   ],
   "execution_count": null,
   "outputs": [
    {
     "output_type": "stream",
     "text": [
      "/content/drive/.shortcut-targets-by-id/1Aj4y870cQktsbomfGNEXbJwEQXSsQ6T5/CMPUT 654 Project/Evaluation\n",
      "/content/drive/.shortcut-targets-by-id/1Aj4y870cQktsbomfGNEXbJwEQXSsQ6T5/CMPUT 654 Project\n"
     ],
     "name": "stdout"
    }
   ]
  },
  {
   "cell_type": "markdown",
   "metadata": {
    "id": "3T3eWzfwNJM9"
   },
   "source": [
    "## Load Embeddings"
   ]
  },
  {
   "cell_type": "code",
   "metadata": {
    "id": "kmYJojWNNJM-"
   },
   "source": [
    "# load regular glove\n",
    "glove_wv, glove_w2i, glove_vocab = load_embedding('data/glove.txt')\n",
    "\n",
    "# load hard debiased glove\n",
    "hd_glove_wv, hd_glove_w2i, hd_glove_vocab = load_embedding('data/hard_debias.txt')\n",
    "\n",
    "# load double hard debiased glove\n",
    "dbl_glove_wv, dbl_glove_w2i, dbl_glove_vocab = load_embedding('data/double_hard_glove.txt')"
   ],
   "execution_count": null,
   "outputs": []
  },
  {
   "cell_type": "code",
   "metadata": {
    "colab": {
     "base_uri": "https://localhost:8080/"
    },
    "id": "HdUu8VBWNJM-",
    "outputId": "8ea4186c-e902-458a-ffaf-e1e0770ec30b"
   },
   "source": [
    "print(len(glove_wv))\n",
    "print(len(hd_glove_wv))\n",
    "print(len(dbl_glove_wv))"
   ],
   "execution_count": null,
   "outputs": [
    {
     "output_type": "stream",
     "text": [
      "322636\n",
      "322636\n",
      "322636\n"
     ],
     "name": "stdout"
    }
   ]
  },
  {
   "cell_type": "markdown",
   "metadata": {
    "id": "iN11gZcgNJM_"
   },
   "source": [
    "## WEAT test"
   ]
  },
  {
   "cell_type": "code",
   "metadata": {
    "id": "c6jmK9xPNJM_"
   },
   "source": [
    "# load word lists for tests\n",
    "# start with the male and female names\n",
    "A = [name.lower() for name in WEAT_words['A']]\n",
    "B = [name.lower() for name in WEAT_words['B']]\n",
    "# career and family\n",
    "C = WEAT_words['C']\n",
    "D = WEAT_words['D']\n",
    "# math and arts\n",
    "E = WEAT_words['E']\n",
    "F = WEAT_words['F']\n",
    "# science and arts\n",
    "G = WEAT_words['G']\n",
    "H = WEAT_words['H']"
   ],
   "execution_count": null,
   "outputs": []
  },
  {
   "cell_type": "markdown",
   "metadata": {
    "id": "U5x3npUlNJNA"
   },
   "source": [
    "### Glove"
   ]
  },
  {
   "cell_type": "code",
   "metadata": {
    "colab": {
     "base_uri": "https://localhost:8080/"
    },
    "id": "hfanR5_0NJNA",
    "outputId": "26512f55-e2fe-4f86-9c3e-33fcf0566463"
   },
   "source": [
    "# calculate effect size and p value for career and family\n",
    "print('Career and Family')\n",
    "print(effect_size(A, B, C, D, glove_wv, glove_w2i, glove_vocab))\n",
    "print(p_value_test(A, B, C, D, glove_wv, glove_w2i, glove_vocab))\n",
    "\n",
    "# calculate effect size and p value for math and arts\n",
    "print('Math and Arts')\n",
    "print(effect_size(A, B, E, F, glove_wv, glove_w2i, glove_vocab))\n",
    "print(p_value_test(A, B, E, F, glove_wv, glove_w2i, glove_vocab))\n",
    "\n",
    "# calculate effect size and p value for science and arts\n",
    "print('Science and Arts')\n",
    "print(effect_size(A, B, G, H, glove_wv, glove_w2i, glove_vocab))\n",
    "print(p_value_test(A, B, G, H, glove_wv, glove_w2i, glove_vocab))"
   ],
   "execution_count": null,
   "outputs": [
    {
     "output_type": "stream",
     "text": [
      "Career and Family\n",
      "1.8440745886996364\n",
      "num of samples 12870\n",
      "7.77000777000777e-05\n",
      "Math and Arts\n",
      "0.7598566596555253\n",
      "num of samples 12870\n",
      "0.06767676767676768\n",
      "Science and Arts\n",
      "1.0550881121697777\n",
      "num of samples 12870\n",
      "0.014063714063714063\n"
     ],
     "name": "stdout"
    }
   ]
  },
  {
   "cell_type": "markdown",
   "metadata": {
    "id": "7vmbXTNJNJNB"
   },
   "source": [
    "### Hard Debias Glove"
   ]
  },
  {
   "cell_type": "code",
   "metadata": {
    "colab": {
     "base_uri": "https://localhost:8080/"
    },
    "id": "M-zDY122NJNB",
    "outputId": "5ccc59a2-180a-44bd-b74f-792f09c37e35"
   },
   "source": [
    "# calculate effect size and p value for career and family\n",
    "print('Career and Family')\n",
    "print(effect_size(A, B, C, D, hd_glove_wv, hd_glove_w2i, hd_glove_vocab))\n",
    "print(p_value_test(A, B, C, D, hd_glove_wv, hd_glove_w2i, hd_glove_vocab))\n",
    "\n",
    "# calculate effect size and p value for math and arts\n",
    "print('Math and Arts')\n",
    "print(effect_size(A, B, E, F, hd_glove_wv, hd_glove_w2i, hd_glove_vocab))\n",
    "print(p_value_test(A, B, E, F, hd_glove_wv, hd_glove_w2i, hd_glove_vocab))\n",
    "\n",
    "# calculate effect size and p value for science and arts\n",
    "print('Science and Arts')\n",
    "print(effect_size(A, B, G, H, hd_glove_wv, hd_glove_w2i, hd_glove_vocab))\n",
    "print(p_value_test(A, B, G, H, hd_glove_wv, hd_glove_w2i, hd_glove_vocab))"
   ],
   "execution_count": null,
   "outputs": [
    {
     "output_type": "stream",
     "text": [
      "Career and Family\n",
      "1.6177007410709874\n",
      "num of samples 12870\n",
      "7.77000777000777e-05\n",
      "Math and Arts\n",
      "0.14890700269684617\n",
      "num of samples 12870\n",
      "0.38578088578088576\n",
      "Science and Arts\n",
      "0.08429122526252365\n",
      "num of samples 12870\n",
      "0.43504273504273505\n"
     ],
     "name": "stdout"
    }
   ]
  },
  {
   "cell_type": "markdown",
   "metadata": {
    "id": "6j-skN1ZNJNC"
   },
   "source": [
    "### Double Hard Debias"
   ]
  },
  {
   "cell_type": "code",
   "metadata": {
    "colab": {
     "base_uri": "https://localhost:8080/"
    },
    "id": "ldz5qGPANJNC",
    "outputId": "e3f02f9d-ea53-4e32-ad98-1abfbb2c25aa"
   },
   "source": [
    "# calculate effect size and p value for career and family\n",
    "print('Career and Family')\n",
    "print(effect_size(A, B, C, D, dbl_glove_wv, dbl_glove_w2i, dbl_glove_vocab))\n",
    "print(p_value_test(A, B, C, D, dbl_glove_wv, dbl_glove_w2i, dbl_glove_vocab))\n",
    "\n",
    "# calculate effect size and p value for math and arts\n",
    "print('Math and Arts')\n",
    "print(effect_size(A, B, E, F, dbl_glove_wv, dbl_glove_w2i, dbl_glove_vocab))\n",
    "print(p_value_test(A, B, E, F, dbl_glove_wv, dbl_glove_w2i, dbl_glove_vocab))\n",
    "\n",
    "# calculate effect size and p value for science and arts\n",
    "print('Science and Arts')\n",
    "print(effect_size(A, B, G, H, dbl_glove_wv, dbl_glove_w2i, dbl_glove_vocab))\n",
    "print(p_value_test(A, B, G, H, dbl_glove_wv, dbl_glove_w2i, dbl_glove_vocab))"
   ],
   "execution_count": null,
   "outputs": [
    {
     "output_type": "stream",
     "text": [
      "Career and Family\n",
      "1.4562378428843936\n",
      "num of samples 12870\n",
      "0.0004662004662004662\n",
      "Math and Arts\n",
      "0.7520731402456355\n",
      "num of samples 12870\n",
      "0.06752136752136752\n",
      "Science and Arts\n",
      "0.13660239768806012\n",
      "num of samples 12870\n",
      "0.39533799533799535\n"
     ],
     "name": "stdout"
    }
   ]
  },
  {
   "cell_type": "markdown",
   "metadata": {
    "id": "Z-Hwnu2RNJND"
   },
   "source": [
    "## Clustering"
   ]
  },
  {
   "cell_type": "code",
   "metadata": {
    "colab": {
     "base_uri": "https://localhost:8080/"
    },
    "id": "sX1ov6NaNJND",
    "outputId": "0f80fece-7e8e-4d59-9a1e-6b5d0d004071"
   },
   "source": [
    "# limit vocab by excluding words that 'should' have gender bias\n",
    "gender_specific = []\n",
    "\n",
    "with open('./data/male_words.txt') as f:\n",
    "    for l in f:\n",
    "        gender_specific.append(l.strip())\n",
    "with open('./data/female_words.txt') as f:\n",
    "    for l in f:\n",
    "        gender_specific.append(l.strip())\n",
    "\n",
    "with codecs.open('./data/gender_specific_full.json') as f:\n",
    "    gender_specific.extend(json.load(f))\n",
    "\n",
    "glove_vocab_limit, glove_wv_limit, glove_w2i_limit = limit_vocab(glove_wv, glove_w2i, glove_vocab, exclude=gender_specific)\n",
    "hd_glove_vocab_limit, hd_glove_wv_limit, hd_glove_w2i_limit = limit_vocab(hd_glove_wv, hd_glove_w2i, hd_glove_vocab, exclude=gender_specific)\n",
    "dbl_glove_vocab_limit, dbl_glove_wv_limit, dbl_glove_w2i_limit = limit_vocab(dbl_glove_wv, dbl_glove_w2i, dbl_glove_vocab, exclude=gender_specific)"
   ],
   "execution_count": null,
   "outputs": [
    {
     "output_type": "stream",
     "text": [
      "size of vocabulary: 47628\n",
      "size of vocabulary: 47628\n",
      "size of vocabulary: 47628\n"
     ],
     "name": "stdout"
    }
   ]
  },
  {
   "cell_type": "markdown",
   "metadata": {
    "id": "U6-QlET9NJND"
   },
   "source": [
    "### Glove"
   ]
  },
  {
   "cell_type": "code",
   "metadata": {
    "id": "gMaHiOd7NJND"
   },
   "source": [
    "# get most biased words\n",
    "he_vector = glove_wv[glove_w2i['he'], :]\n",
    "she_vector = glove_wv[glove_w2i['she'], :]\n",
    "biased_words = compute_word_bias(glove_wv_limit, glove_w2i_limit, glove_vocab_limit, he_vector, she_vector)"
   ],
   "execution_count": null,
   "outputs": []
  },
  {
   "cell_type": "code",
   "metadata": {
    "colab": {
     "base_uri": "https://localhost:8080/"
    },
    "id": "LE3YKOPiNJNE",
    "outputId": "808910cb-b80b-42de-9615-ee183ac6c93b"
   },
   "source": [
    "# cluster using limited vocabulary\n",
    "for n in [100, 500, 1000]:\n",
    "    my_cluster(glove_wv_limit, glove_w2i_limit, 1, glove_vocab_limit, biased_words, num_biased_words=n)"
   ],
   "execution_count": null,
   "outputs": [
    {
     "output_type": "stream",
     "text": [
      "precision 1.0\n",
      "precision 1.0\n",
      "precision 0.9995\n"
     ],
     "name": "stdout"
    }
   ]
  },
  {
   "cell_type": "markdown",
   "metadata": {
    "id": "lq3N0BSlNJNE"
   },
   "source": [
    "### Hard Debias Glove"
   ]
  },
  {
   "cell_type": "code",
   "metadata": {
    "id": "zpQ2LbE9NJNE",
    "outputId": "0972e673-bc8c-4163-ef64-3fe99edc0a0b"
   },
   "source": [
    "# cluster using limited vocabulary\n",
    "for n in [100, 500, 1000]:\n",
    "    my_cluster(hd_glove_wv_limit, hd_glove_w2i_limit, 1, hd_glove_vocab_limit, biased_words, num_biased_words=n)"
   ],
   "execution_count": null,
   "outputs": [
    {
     "output_type": "stream",
     "text": [
      "precision 0.76\n",
      "precision 0.8\n",
      "precision 0.8\n"
     ],
     "name": "stdout"
    }
   ]
  },
  {
   "cell_type": "markdown",
   "metadata": {
    "id": "NLhB5HEpNJNF"
   },
   "source": [
    "### Double Hard Debiase Glove"
   ]
  },
  {
   "cell_type": "code",
   "metadata": {
    "id": "NRoJcJYWNJNF",
    "colab": {
     "base_uri": "https://localhost:8080/"
    },
    "outputId": "3539b37b-3f8e-4b12-a860-4b8c5dd9aab8"
   },
   "source": [
    "# cluster using limited vocabulary\n",
    "for n in [100, 500, 1000]:\n",
    "    my_cluster(dbl_glove_wv_limit, dbl_glove_w2i_limit, 1, dbl_glove_vocab_limit, biased_words, num_biased_words=n)"
   ],
   "execution_count": null,
   "outputs": [
    {
     "output_type": "stream",
     "text": [
      "precision 0.76\n",
      "precision 0.81\n",
      "precision 0.8085\n"
     ],
     "name": "stdout"
    }
   ]
  },
  {
   "cell_type": "markdown",
   "metadata": {
    "id": "k12iNkxeNJNF"
   },
   "source": [
    "## Word Analogy\n",
    "### Google, MSR"
   ]
  },
  {
   "cell_type": "code",
   "metadata": {
    "colab": {
     "base_uri": "https://localhost:8080/"
    },
    "id": "dY2lbTgKq68w",
    "outputId": "8eaf4e7b-256c-429d-b429-02e39a31209f"
   },
   "source": [
    "cd benchmarks/"
   ],
   "execution_count": null,
   "outputs": [
    {
     "output_type": "stream",
     "text": [
      "/content/drive/.shortcut-targets-by-id/1Aj4y870cQktsbomfGNEXbJwEQXSsQ6T5/CMPUT 654 Project/benchmarks\n"
     ],
     "name": "stdout"
    }
   ]
  },
  {
   "cell_type": "code",
   "metadata": {
    "id": "c-n9V_AaNJNG",
    "colab": {
     "base_uri": "https://localhost:8080/"
    },
    "outputId": "a8ab8cf3-b85a-4766-dab2-f5038fcbb120",
    "pycharm": {
     "name": "#%%\n"
    }
   },
   "source": [
    "from web.evaluate import evaluate_on_semeval_2012_2\n",
    "from web.datasets.analogy import fetch_msr_analogy, fetch_google_analogy\n",
    "from web.evaluate import evaluate_analogy"
   ],
   "execution_count": null,
   "outputs": [
    {
     "output_type": "stream",
     "text": [
      "/usr/local/lib/python3.7/dist-packages/sklearn/utils/deprecation.py:144: FutureWarning: The sklearn.datasets.base module is  deprecated in version 0.22 and will be removed in version 0.24. The corresponding classes / functions should instead be imported from sklearn.datasets. Anything that cannot be imported from sklearn.datasets is now part of the private API.\n",
      "  warnings.warn(message, FutureWarning)\n"
     ],
     "name": "stderr"
    }
   ]
  },
  {
   "cell_type": "markdown",
   "metadata": {
    "id": "-l9MmzrcNJNG",
    "pycharm": {
     "name": "#%% md\n"
    }
   },
   "source": [
    "### Glove Analogy"
   ]
  },
  {
   "cell_type": "code",
   "metadata": {
    "id": "Qyt7Yhx2NJNG"
   },
   "source": [
    "# build word dictionary\n",
    "glove_dict = {}\n",
    "for word in glove_vocab:\n",
    "    glove_dict[word] = glove_wv[glove_w2i[word], :]"
   ],
   "execution_count": null,
   "outputs": []
  },
  {
   "cell_type": "code",
   "metadata": {
    "colab": {
     "base_uri": "https://localhost:8080/"
    },
    "id": "3eIUDyXQNJNG",
    "outputId": "5e260bc0-d95f-43ae-995f-3774f1d88436"
   },
   "source": [
    "# glove_results = evaluate_on_semeval_2012_2(glove_dict)"
   ],
   "execution_count": null,
   "outputs": [
    {
     "output_type": "stream",
     "text": [
      "\n",
      "Dataset created in /root/web_data/analogy\n",
      "\n"
     ],
     "name": "stdout"
    },
    {
     "output_type": "stream",
     "text": [
      "/content/drive/.shortcut-targets-by-id/1Aj4y870cQktsbomfGNEXbJwEQXSsQ6T5/CMPUT 654 Project/benchmarks/web/evaluate.py:143: FutureWarning: arrays to stack must be passed as a \"sequence\" type such as list or tuple. Support for non-sequence iterables such as generators is deprecated as of NumPy 1.16 and will raise an error in the future.\n",
      "  prot_left = np.mean(np.vstack(w.get(word, mean_vector) for word in prototypes[:, 0]), axis=0)\n",
      "/content/drive/.shortcut-targets-by-id/1Aj4y870cQktsbomfGNEXbJwEQXSsQ6T5/CMPUT 654 Project/benchmarks/web/evaluate.py:144: FutureWarning: arrays to stack must be passed as a \"sequence\" type such as list or tuple. Support for non-sequence iterables such as generators is deprecated as of NumPy 1.16 and will raise an error in the future.\n",
      "  prot_right = np.mean(np.vstack(w.get(word, mean_vector) for word in prototypes[:, 1]), axis=0)\n",
      "/content/drive/.shortcut-targets-by-id/1Aj4y870cQktsbomfGNEXbJwEQXSsQ6T5/CMPUT 654 Project/benchmarks/web/evaluate.py:147: FutureWarning: arrays to stack must be passed as a \"sequence\" type such as list or tuple. Support for non-sequence iterables such as generators is deprecated as of NumPy 1.16 and will raise an error in the future.\n",
      "  question_left, question_right = np.vstack(w.get(word, mean_vector) for word in questions[:, 0]), \\\n",
      "/content/drive/.shortcut-targets-by-id/1Aj4y870cQktsbomfGNEXbJwEQXSsQ6T5/CMPUT 654 Project/benchmarks/web/evaluate.py:148: FutureWarning: arrays to stack must be passed as a \"sequence\" type such as list or tuple. Support for non-sequence iterables such as generators is deprecated as of NumPy 1.16 and will raise an error in the future.\n",
      "  np.vstack(w.get(word, mean_vector) for word in questions[:, 1])\n"
     ],
     "name": "stderr"
    }
   ]
  },
  {
   "cell_type": "code",
   "metadata": {
    "colab": {
     "base_uri": "https://localhost:8080/"
    },
    "id": "PqSZY5kwNJNG",
    "outputId": "53490bca-fb34-4de5-8e3e-5532dfbf4b82"
   },
   "source": [
    "# print(glove_results['all'])"
   ],
   "execution_count": null,
   "outputs": [
    {
     "output_type": "stream",
     "text": [
      "0.17252551510397837\n"
     ],
     "name": "stdout"
    }
   ]
  },
  {
   "cell_type": "code",
   "metadata": {
    "colab": {
     "base_uri": "https://localhost:8080/"
    },
    "id": "_-sEPa28NJNH",
    "outputId": "b8ef6714-4e7a-436c-8138-4d8be68e5ec6"
   },
   "source": [
    "msr_data = fetch_msr_analogy()"
   ],
   "execution_count": null,
   "outputs": [
    {
     "output_type": "stream",
     "text": [
      "\n",
      "Dataset created in /root/web_data/analogy/EN-MSR\n",
      "\n"
     ],
     "name": "stdout"
    }
   ]
  },
  {
   "cell_type": "code",
   "metadata": {
    "colab": {
     "base_uri": "https://localhost:8080/"
    },
    "id": "XsSFFW7CNJNH",
    "outputId": "992286b8-7336-4913-b32a-8c02b502db96"
   },
   "source": [
    "glove_analogy_MSR_results = evaluate_analogy(glove_dict, msr_data['X'], msr_data['y'])"
   ],
   "execution_count": null,
   "outputs": [
    {
     "output_type": "stream",
     "text": [
      "Missing 410 words. Will replace them with mean vector\n",
      "/content/drive/.shortcut-targets-by-id/1Aj4y870cQktsbomfGNEXbJwEQXSsQ6T5/CMPUT 654 Project/benchmarks/web/analogy.py:105: FutureWarning: arrays to stack must be passed as a \"sequence\" type such as list or tuple. Support for non-sequence iterables such as generators is deprecated as of NumPy 1.16 and will raise an error in the future.\n",
      "  A, B, C = np.vstack(w.get(word, mean_vector) for word in X_b[:, 0]), \\\n",
      "/content/drive/.shortcut-targets-by-id/1Aj4y870cQktsbomfGNEXbJwEQXSsQ6T5/CMPUT 654 Project/benchmarks/web/analogy.py:106: FutureWarning: arrays to stack must be passed as a \"sequence\" type such as list or tuple. Support for non-sequence iterables such as generators is deprecated as of NumPy 1.16 and will raise an error in the future.\n",
      "  np.vstack(w.get(word, mean_vector) for word in X_b[:, 1]), \\\n",
      "/content/drive/.shortcut-targets-by-id/1Aj4y870cQktsbomfGNEXbJwEQXSsQ6T5/CMPUT 654 Project/benchmarks/web/analogy.py:107: FutureWarning: arrays to stack must be passed as a \"sequence\" type such as list or tuple. Support for non-sequence iterables such as generators is deprecated as of NumPy 1.16 and will raise an error in the future.\n",
      "  np.vstack(w.get(word, mean_vector) for word in X_b[:, 2])\n"
     ],
     "name": "stderr"
    }
   ]
  },
  {
   "cell_type": "code",
   "metadata": {
    "colab": {
     "base_uri": "https://localhost:8080/"
    },
    "id": "Dt--4aRsNJNH",
    "outputId": "7a3f8084-f863-4e5e-e887-e9f272f4ef41",
    "pycharm": {
     "name": "#%%\n"
    }
   },
   "source": [
    "print(glove_analogy_MSR_results)"
   ],
   "execution_count": null,
   "outputs": [
    {
     "output_type": "stream",
     "text": [
      "0.446375\n"
     ],
     "name": "stdout"
    }
   ]
  },
  {
   "cell_type": "code",
   "metadata": {
    "colab": {
     "base_uri": "https://localhost:8080/"
    },
    "id": "PNOXGKQhObS-",
    "outputId": "4747a732-1fdc-4cec-b727-ddce69d63e34"
   },
   "source": [
    "google_data = fetch_google_analogy()"
   ],
   "execution_count": null,
   "outputs": [
    {
     "output_type": "stream",
     "text": [
      "\n",
      "Dataset created in /root/web_data/analogy/EN-GOOGLE\n",
      "\n"
     ],
     "name": "stdout"
    }
   ]
  },
  {
   "cell_type": "code",
   "metadata": {
    "colab": {
     "base_uri": "https://localhost:8080/"
    },
    "id": "6db4AOloyXdm",
    "outputId": "1ae175ca-7082-42f2-a175-e37c9a99252d"
   },
   "source": [
    "glove_analogy_google_results = evaluate_analogy(glove_dict, google_data['X'], google_data['y'])"
   ],
   "execution_count": null,
   "outputs": [
    {
     "output_type": "stream",
     "text": [
      "\n",
      "Dataset created in /root/web_data/analogy/EN-GOOGLE\n",
      "\n"
     ],
     "name": "stdout"
    },
    {
     "output_type": "stream",
     "text": [
      "/content/drive/.shortcut-targets-by-id/1Aj4y870cQktsbomfGNEXbJwEQXSsQ6T5/CMPUT 654 Project/benchmarks/web/analogy.py:105: FutureWarning: arrays to stack must be passed as a \"sequence\" type such as list or tuple. Support for non-sequence iterables such as generators is deprecated as of NumPy 1.16 and will raise an error in the future.\n",
      "  A, B, C = np.vstack(w.get(word, mean_vector) for word in X_b[:, 0]), \\\n",
      "/content/drive/.shortcut-targets-by-id/1Aj4y870cQktsbomfGNEXbJwEQXSsQ6T5/CMPUT 654 Project/benchmarks/web/analogy.py:106: FutureWarning: arrays to stack must be passed as a \"sequence\" type such as list or tuple. Support for non-sequence iterables such as generators is deprecated as of NumPy 1.16 and will raise an error in the future.\n",
      "  np.vstack(w.get(word, mean_vector) for word in X_b[:, 1]), \\\n",
      "/content/drive/.shortcut-targets-by-id/1Aj4y870cQktsbomfGNEXbJwEQXSsQ6T5/CMPUT 654 Project/benchmarks/web/analogy.py:107: FutureWarning: arrays to stack must be passed as a \"sequence\" type such as list or tuple. Support for non-sequence iterables such as generators is deprecated as of NumPy 1.16 and will raise an error in the future.\n",
      "  np.vstack(w.get(word, mean_vector) for word in X_b[:, 2])\n"
     ],
     "name": "stderr"
    }
   ]
  },
  {
   "cell_type": "code",
   "metadata": {
    "colab": {
     "base_uri": "https://localhost:8080/"
    },
    "id": "PxIfmkYp0X_2",
    "outputId": "32108ef3-5870-4f57-bd1e-a6ea1e9497c3"
   },
   "source": [
    "print(glove_analogy_google_results)"
   ],
   "execution_count": null,
   "outputs": [
    {
     "output_type": "stream",
     "text": [
      "0.6440851412198118\n"
     ],
     "name": "stdout"
    }
   ]
  },
  {
   "cell_type": "markdown",
   "metadata": {
    "id": "6Qo2lhGFNJNH",
    "pycharm": {
     "name": "#%% md\n"
    }
   },
   "source": [
    "### Hard Debias Glove Analogy"
   ]
  },
  {
   "cell_type": "code",
   "metadata": {
    "id": "ByKYmbhZNJNI"
   },
   "source": [
    "# build word dictionary\n",
    "hd_glove_dict = {}\n",
    "for word in hd_glove_vocab:\n",
    "    hd_glove_dict[word] = hd_glove_wv[hd_glove_w2i[word], :]"
   ],
   "execution_count": null,
   "outputs": []
  },
  {
   "cell_type": "code",
   "metadata": {
    "id": "ZqmyEZ9XNJNI",
    "colab": {
     "base_uri": "https://localhost:8080/"
    },
    "outputId": "58182f2a-9928-4194-feb6-22d318fc5cd1",
    "pycharm": {
     "name": "#%%\n"
    }
   },
   "source": [
    "# hd_glove_results = evaluate_on_semeval_2012_2(hd_glove_dict)"
   ],
   "execution_count": null,
   "outputs": [
    {
     "output_type": "stream",
     "text": [
      "/content/drive/.shortcut-targets-by-id/1Aj4y870cQktsbomfGNEXbJwEQXSsQ6T5/CMPUT 654 Project/benchmarks/web/evaluate.py:143: FutureWarning: arrays to stack must be passed as a \"sequence\" type such as list or tuple. Support for non-sequence iterables such as generators is deprecated as of NumPy 1.16 and will raise an error in the future.\n",
      "  prot_left = np.mean(np.vstack(w.get(word, mean_vector) for word in prototypes[:, 0]), axis=0)\n",
      "/content/drive/.shortcut-targets-by-id/1Aj4y870cQktsbomfGNEXbJwEQXSsQ6T5/CMPUT 654 Project/benchmarks/web/evaluate.py:144: FutureWarning: arrays to stack must be passed as a \"sequence\" type such as list or tuple. Support for non-sequence iterables such as generators is deprecated as of NumPy 1.16 and will raise an error in the future.\n",
      "  prot_right = np.mean(np.vstack(w.get(word, mean_vector) for word in prototypes[:, 1]), axis=0)\n",
      "/content/drive/.shortcut-targets-by-id/1Aj4y870cQktsbomfGNEXbJwEQXSsQ6T5/CMPUT 654 Project/benchmarks/web/evaluate.py:147: FutureWarning: arrays to stack must be passed as a \"sequence\" type such as list or tuple. Support for non-sequence iterables such as generators is deprecated as of NumPy 1.16 and will raise an error in the future.\n",
      "  question_left, question_right = np.vstack(w.get(word, mean_vector) for word in questions[:, 0]), \\\n",
      "/content/drive/.shortcut-targets-by-id/1Aj4y870cQktsbomfGNEXbJwEQXSsQ6T5/CMPUT 654 Project/benchmarks/web/evaluate.py:148: FutureWarning: arrays to stack must be passed as a \"sequence\" type such as list or tuple. Support for non-sequence iterables such as generators is deprecated as of NumPy 1.16 and will raise an error in the future.\n",
      "  np.vstack(w.get(word, mean_vector) for word in questions[:, 1])\n"
     ],
     "name": "stderr"
    }
   ]
  },
  {
   "cell_type": "code",
   "metadata": {
    "id": "RBJ1ZhQTNJNI",
    "colab": {
     "base_uri": "https://localhost:8080/"
    },
    "outputId": "2f77c0fa-2342-44f3-dada-4aae9602a223"
   },
   "source": [
    "print(hd_glove_results['all'])"
   ],
   "execution_count": null,
   "outputs": [
    {
     "output_type": "stream",
     "text": [
      "0.17629261126785617\n"
     ],
     "name": "stdout"
    }
   ]
  },
  {
   "cell_type": "code",
   "metadata": {
    "id": "jLfibfaHNJNI",
    "colab": {
     "base_uri": "https://localhost:8080/"
    },
    "outputId": "f61ddb3f-a29e-4eb7-bd33-c2655b06a04c",
    "pycharm": {
     "name": "#%%\n"
    }
   },
   "source": [
    "hd_analogy_MSR_results = evaluate_analogy(hd_glove_dict, msr_data['X'], msr_data['y'])"
   ],
   "execution_count": null,
   "outputs": [
    {
     "output_type": "stream",
     "text": [
      "Missing 410 words. Will replace them with mean vector\n",
      "/content/drive/.shortcut-targets-by-id/1Aj4y870cQktsbomfGNEXbJwEQXSsQ6T5/CMPUT 654 Project/benchmarks/web/analogy.py:105: FutureWarning: arrays to stack must be passed as a \"sequence\" type such as list or tuple. Support for non-sequence iterables such as generators is deprecated as of NumPy 1.16 and will raise an error in the future.\n",
      "  A, B, C = np.vstack(w.get(word, mean_vector) for word in X_b[:, 0]), \\\n",
      "/content/drive/.shortcut-targets-by-id/1Aj4y870cQktsbomfGNEXbJwEQXSsQ6T5/CMPUT 654 Project/benchmarks/web/analogy.py:106: FutureWarning: arrays to stack must be passed as a \"sequence\" type such as list or tuple. Support for non-sequence iterables such as generators is deprecated as of NumPy 1.16 and will raise an error in the future.\n",
      "  np.vstack(w.get(word, mean_vector) for word in X_b[:, 1]), \\\n",
      "/content/drive/.shortcut-targets-by-id/1Aj4y870cQktsbomfGNEXbJwEQXSsQ6T5/CMPUT 654 Project/benchmarks/web/analogy.py:107: FutureWarning: arrays to stack must be passed as a \"sequence\" type such as list or tuple. Support for non-sequence iterables such as generators is deprecated as of NumPy 1.16 and will raise an error in the future.\n",
      "  np.vstack(w.get(word, mean_vector) for word in X_b[:, 2])\n"
     ],
     "name": "stderr"
    }
   ]
  },
  {
   "cell_type": "code",
   "metadata": {
    "id": "2VFkynuHNJNJ",
    "colab": {
     "base_uri": "https://localhost:8080/"
    },
    "outputId": "7f8fedf6-a73f-45b6-9934-9f8c4b6c7827"
   },
   "source": [
    "print(hd_analogy_MSR_results)"
   ],
   "execution_count": null,
   "outputs": [
    {
     "output_type": "stream",
     "text": [
      "0.511625\n"
     ],
     "name": "stdout"
    }
   ]
  },
  {
   "cell_type": "code",
   "metadata": {
    "colab": {
     "base_uri": "https://localhost:8080/"
    },
    "id": "UmSvWlWnzFWD",
    "outputId": "c32a63ec-efd2-47e5-9d90-705e59c77eb2"
   },
   "source": [
    "hd_analogy_google_results = evaluate_analogy(hd_glove_dict, google_data['X'], google_data['y'])\n",
    "print(hd__analogy_google_results)"
   ],
   "execution_count": null,
   "outputs": [
    {
     "output_type": "stream",
     "text": [
      "/content/drive/.shortcut-targets-by-id/1Aj4y870cQktsbomfGNEXbJwEQXSsQ6T5/CMPUT 654 Project/benchmarks/web/analogy.py:105: FutureWarning: arrays to stack must be passed as a \"sequence\" type such as list or tuple. Support for non-sequence iterables such as generators is deprecated as of NumPy 1.16 and will raise an error in the future.\n",
      "  A, B, C = np.vstack(w.get(word, mean_vector) for word in X_b[:, 0]), \\\n",
      "/content/drive/.shortcut-targets-by-id/1Aj4y870cQktsbomfGNEXbJwEQXSsQ6T5/CMPUT 654 Project/benchmarks/web/analogy.py:106: FutureWarning: arrays to stack must be passed as a \"sequence\" type such as list or tuple. Support for non-sequence iterables such as generators is deprecated as of NumPy 1.16 and will raise an error in the future.\n",
      "  np.vstack(w.get(word, mean_vector) for word in X_b[:, 1]), \\\n",
      "/content/drive/.shortcut-targets-by-id/1Aj4y870cQktsbomfGNEXbJwEQXSsQ6T5/CMPUT 654 Project/benchmarks/web/analogy.py:107: FutureWarning: arrays to stack must be passed as a \"sequence\" type such as list or tuple. Support for non-sequence iterables such as generators is deprecated as of NumPy 1.16 and will raise an error in the future.\n",
      "  np.vstack(w.get(word, mean_vector) for word in X_b[:, 2])\n"
     ],
     "name": "stderr"
    },
    {
     "output_type": "stream",
     "text": [
      "0.7056385591485878\n"
     ],
     "name": "stdout"
    }
   ]
  },
  {
   "cell_type": "markdown",
   "metadata": {
    "id": "7v2UMe2uO7hP",
    "pycharm": {
     "name": "#%% md\n"
    }
   },
   "source": [
    "### Double Hard Debias Glove Analogy"
   ]
  },
  {
   "cell_type": "code",
   "metadata": {
    "id": "x3NVF4YDPLX7"
   },
   "source": [
    "# build word dictionary\n",
    "dbl_glove_dict = {}\n",
    "for word in hd_glove_vocab:\n",
    "    dbl_glove_dict[word] = dbl_glove_wv[dbl_glove_w2i[word], :]"
   ],
   "execution_count": null,
   "outputs": []
  },
  {
   "cell_type": "code",
   "metadata": {
    "colab": {
     "base_uri": "https://localhost:8080/"
    },
    "id": "RDfnKD0TPh3T",
    "outputId": "df951d95-90dd-4895-db04-7fd9a8ca7982"
   },
   "source": [
    "dbl_analogy_MSR_results = evaluate_analogy(dbl_glove_dict, msr_data['X'], msr_data['y'])"
   ],
   "execution_count": null,
   "outputs": [
    {
     "output_type": "stream",
     "text": [
      "WARNING:web.analogy:Missing 410 words. Will replace them with mean vector\n",
      "/content/drive/.shortcut-targets-by-id/1Aj4y870cQktsbomfGNEXbJwEQXSsQ6T5/CMPUT 654 Project/benchmarks/web/analogy.py:105: FutureWarning: arrays to stack must be passed as a \"sequence\" type such as list or tuple. Support for non-sequence iterables such as generators is deprecated as of NumPy 1.16 and will raise an error in the future.\n",
      "  A, B, C = np.vstack(w.get(word, mean_vector) for word in X_b[:, 0]), \\\n",
      "/content/drive/.shortcut-targets-by-id/1Aj4y870cQktsbomfGNEXbJwEQXSsQ6T5/CMPUT 654 Project/benchmarks/web/analogy.py:106: FutureWarning: arrays to stack must be passed as a \"sequence\" type such as list or tuple. Support for non-sequence iterables such as generators is deprecated as of NumPy 1.16 and will raise an error in the future.\n",
      "  np.vstack(w.get(word, mean_vector) for word in X_b[:, 1]), \\\n",
      "/content/drive/.shortcut-targets-by-id/1Aj4y870cQktsbomfGNEXbJwEQXSsQ6T5/CMPUT 654 Project/benchmarks/web/analogy.py:107: FutureWarning: arrays to stack must be passed as a \"sequence\" type such as list or tuple. Support for non-sequence iterables such as generators is deprecated as of NumPy 1.16 and will raise an error in the future.\n",
      "  np.vstack(w.get(word, mean_vector) for word in X_b[:, 2])\n"
     ],
     "name": "stderr"
    }
   ]
  },
  {
   "cell_type": "code",
   "metadata": {
    "colab": {
     "base_uri": "https://localhost:8080/"
    },
    "id": "qsj_rK7kPuI0",
    "outputId": "5040e381-c76b-4aab-9eef-d4057e99726d"
   },
   "source": [
    "print(dbl_analogy_MSR_results)"
   ],
   "execution_count": null,
   "outputs": [
    {
     "output_type": "stream",
     "text": [
      "0.512125\n"
     ],
     "name": "stdout"
    }
   ]
  },
  {
   "cell_type": "code",
   "execution_count": null,
   "outputs": [],
   "source": [
    "dbl_analogy_google_results = evaluate_analogy(dbl_glove_dict, google_data['X'], google_data['y'])"
   ],
   "metadata": {
    "collapsed": false,
    "pycharm": {
     "name": "#%%\n"
    }
   }
  },
  {
   "cell_type": "code",
   "execution_count": null,
   "outputs": [],
   "source": [
    "print(dbl_analogy_google_results)"
   ],
   "metadata": {
    "collapsed": false,
    "pycharm": {
     "name": "#%%\n"
    }
   }
  },
  {
   "cell_type": "markdown",
   "source": [
    "## Categorization"
   ],
   "metadata": {
    "collapsed": false
   }
  },
  {
   "cell_type": "code",
   "execution_count": null,
   "outputs": [],
   "source": [
    "from web.evaluate import evaluate_categorization\n",
    "from web.datasets.categorization import fetch_BLESS, fetch_battig, fetch_AP, fetch_ESSLI_1a, fetch_ESSLI_2b, fetch_ESSLI_2c"
   ],
   "metadata": {
    "collapsed": false,
    "pycharm": {
     "name": "#%%\n"
    }
   }
  },
  {
   "cell_type": "markdown",
   "source": [
    "### Glove"
   ],
   "metadata": {
    "collapsed": false
   }
  },
  {
   "cell_type": "code",
   "execution_count": null,
   "outputs": [],
   "source": [
    "bless_data = fetch_BLESS()\n",
    "battig_data = fetch_battig()\n",
    "ap_data = fetch_AP()\n",
    "ESSLI_1a_data  = fetch_ESSLI_1a()\n",
    "ESSLI_2b_data  = fetch_ESSLI_2b()\n",
    "ESSLI_2c_data  = fetch_ESSLI_2c()"
   ],
   "metadata": {
    "collapsed": false,
    "pycharm": {
     "name": "#%%\n"
    }
   }
  },
  {
   "cell_type": "code",
   "execution_count": null,
   "outputs": [],
   "source": [
    "glove_cat_results_bless = evaluate_categorization(glove_dict, bless_data['X'], bless_data['y'])\n",
    "glove_cat_results_battig = evaluate_categorization(glove_dict, battig_data['X'], battig_data['y'])\n",
    "glove_cat_results_ap = evaluate_categorization(glove_dict, ap_data['X'], ap_data['y'])\n",
    "glove_cat_results_ESSLI_1a = evaluate_categorization(glove_dict, ESSLI_1a_data['X'], ESSLI_1a_data['y'])\n",
    "glove_cat_results_ESSLI_2b = evaluate_categorization(glove_dict, ESSLI_2b_data['X'], ESSLI_2b_data['y'])\n",
    "glove_cat_results_ESSLI_2c = evaluate_categorization(glove_dict, ESSLI_2c_data['X'], ESSLI_2c_data['y'])"
   ],
   "metadata": {
    "collapsed": false,
    "pycharm": {
     "name": "#%%\n"
    }
   }
  },
  {
   "cell_type": "code",
   "execution_count": null,
   "outputs": [],
   "source": [
    "print(\"BLESS: \" + str(glove_cat_results_bless))\n",
    "print(\"Battig: \" + str(glove_cat_results_battig))\n",
    "print(\"AP:\" + str(glove_cat_results_ap))\n",
    "print(glove_cat_results_ESSLI_1a)\n",
    "print(glove_cat_results_ESSLI_2b)\n",
    "print(glove_cat_results_ESSLI_2c)\n",
    "print(\"ESSLI_avg: \" + str((glove_cat_results_ESSLI_1a + glove_cat_results_ESSLI_2b + glove_cat_results_ESSLI_2c)/3))"
   ],
   "metadata": {
    "collapsed": false,
    "pycharm": {
     "name": "#%%\n"
    }
   }
  },
  {
   "cell_type": "markdown",
   "source": [
    "### Hard Debias Glove"
   ],
   "metadata": {
    "collapsed": false
   }
  },
  {
   "cell_type": "code",
   "execution_count": null,
   "outputs": [],
   "source": [
    "hd_glove_cat_results_bless = evaluate_categorization(hd_glove_dict, bless_data['X'], bless_data['y'])\n",
    "hd_glove_cat_results_battig = evaluate_categorization(hd_glove_dict, battig_data['X'], battig_data['y'])\n",
    "hd_glove_cat_results_ap = evaluate_categorization(hd_glove_dict, ap_data['X'], ap_data['y'])\n",
    "hd_glove_cat_results_ESSLI_1a = evaluate_categorization(hd_glove_dict, ESSLI_1a_data['X'], ESSLI_1a_data['y'])\n",
    "hd_glove_cat_results_ESSLI_2b = evaluate_categorization(hd_glove_dict, ESSLI_2b_data['X'], ESSLI_2b_data['y'])\n",
    "hd_glove_cat_results_ESSLI_2c = evaluate_categorization(hd_glove_dict, ESSLI_2c_data['X'], ESSLI_2c_data['y'])"
   ],
   "metadata": {
    "collapsed": false,
    "pycharm": {
     "name": "#%%\n"
    }
   }
  },
  {
   "cell_type": "code",
   "execution_count": null,
   "outputs": [],
   "source": [
    "print(\"BLESS: \" + str(hd_glove_cat_results_bless))\n",
    "print(\"Battig: \" + str(hd_glove_cat_results_battig))\n",
    "print(\"AP: \" + str(hd_glove_cat_results_ap))\n",
    "print(hd_glove_cat_results_ESSLI_1a)\n",
    "print(hd_glove_cat_results_ESSLI_2b)\n",
    "print(hd_glove_cat_results_ESSLI_2c)\n",
    "print(\"ESSLI_avg: \" + str((hd_glove_cat_results_ESSLI_1a + hd_glove_cat_results_ESSLI_2b + hd_glove_cat_results_ESSLI_2c)/3))"
   ],
   "metadata": {
    "collapsed": false,
    "pycharm": {
     "name": "#%%\n"
    }
   }
  },
  {
   "cell_type": "markdown",
   "source": [
    "### Double Hard Debias Glove"
   ],
   "metadata": {
    "collapsed": false
   }
  },
  {
   "cell_type": "code",
   "execution_count": null,
   "outputs": [],
   "source": [
    "dbl_glove_cat_results_bless = evaluate_categorization(dbl_glove_dict, bless_data['X'], bless_data['y'])\n",
    "dbl_glove_cat_results_battig = evaluate_categorization(dbl_glove_dict, battig_data['X'], battig_data['y'])\n",
    "dbl_glove_cat_results_ap = evaluate_categorization(dbl_glove_dict, ap_data['X'], ap_data['y'])\n",
    "dbl_glove_cat_results_ESSLI_1a = evaluate_categorization(dbl_glove_dict, ESSLI_1a_data['X'], ESSLI_1a_data['y'])\n",
    "dbl_glove_cat_results_ESSLI_2b = evaluate_categorization(dbl_glove_dict, ESSLI_2b_data['X'], ESSLI_2b_data['y'])\n",
    "dbl_glove_cat_results_ESSLI_2c = evaluate_categorization(dbl_glove_dict, ESSLI_2c_data['X'], ESSLI_2c_data['y'])"
   ],
   "metadata": {
    "collapsed": false,
    "pycharm": {
     "name": "#%%\n"
    }
   }
  },
  {
   "cell_type": "code",
   "execution_count": null,
   "outputs": [],
   "source": [
    "print(\"BLESS: \" + str(dbl_glove_cat_results_bless))\n",
    "print(\"Battig: \" + str(dbl_glove_cat_results_battig))\n",
    "print(\"AP: \" + str(dbl_glove_cat_results_ap))\n",
    "print(dbl_glove_cat_results_ESSLI_1a)\n",
    "print(dbl_glove_cat_results_ESSLI_2b)\n",
    "print(dbl_glove_cat_results_ESSLI_2c)\n",
    "print(\"ESSLI_avg: \" + str((dbl_glove_cat_results_ESSLI_1a + dbl_glove_cat_results_ESSLI_2b + dbl_glove_cat_results_ESSLI_2c)/3))"
   ],
   "metadata": {
    "collapsed": false,
    "pycharm": {
     "name": "#%%\n"
    }
   }
  },
  {
   "cell_type": "code",
   "metadata": {
    "colab": {
     "base_uri": "https://localhost:8080/"
    },
    "id": "zrGCu-xRPqbD",
    "outputId": "61359807-bd78-4c76-ebfb-06a4911fdb1e"
   },
   "source": [
    "print(\"BLESS: \" + str(dbl_glove_cat_results_bless))\n",
    "print(\"Battig: \" + str(dbl_glove_cat_results_battig))\n",
    "print(\"AP: \" + str(dbl_glove_cat_results_ap))\n",
    "print(dbl_glove_cat_results_ESSLI_1a)\n",
    "print(dbl_glove_cat_results_ESSLI_2b)\n",
    "print(dbl_glove_cat_results_ESSLI_2c)\n",
    "print(\"ESSLI_avg: \" + str((dbl_glove_cat_results_ESSLI_1a + dbl_glove_cat_results_ESSLI_2b + dbl_glove_cat_results_ESSLI_2c)/3))"
   ],
   "execution_count": null,
   "outputs": [
    {
     "output_type": "stream",
     "text": [
      "/content/drive/.shortcut-targets-by-id/1Aj4y870cQktsbomfGNEXbJwEQXSsQ6T5/CMPUT 654 Project/benchmarks/web/analogy.py:105: FutureWarning: arrays to stack must be passed as a \"sequence\" type such as list or tuple. Support for non-sequence iterables such as generators is deprecated as of NumPy 1.16 and will raise an error in the future.\n",
      "  A, B, C = np.vstack(w.get(word, mean_vector) for word in X_b[:, 0]), \\\n",
      "/content/drive/.shortcut-targets-by-id/1Aj4y870cQktsbomfGNEXbJwEQXSsQ6T5/CMPUT 654 Project/benchmarks/web/analogy.py:106: FutureWarning: arrays to stack must be passed as a \"sequence\" type such as list or tuple. Support for non-sequence iterables such as generators is deprecated as of NumPy 1.16 and will raise an error in the future.\n",
      "  np.vstack(w.get(word, mean_vector) for word in X_b[:, 1]), \\\n",
      "/content/drive/.shortcut-targets-by-id/1Aj4y870cQktsbomfGNEXbJwEQXSsQ6T5/CMPUT 654 Project/benchmarks/web/analogy.py:107: FutureWarning: arrays to stack must be passed as a \"sequence\" type such as list or tuple. Support for non-sequence iterables such as generators is deprecated as of NumPy 1.16 and will raise an error in the future.\n",
      "  np.vstack(w.get(word, mean_vector) for word in X_b[:, 2])\n"
     ],
     "name": "stderr"
    }
   ]
  },
  {
   "cell_type": "code",
   "metadata": {
    "colab": {
     "base_uri": "https://localhost:8080/"
    },
    "id": "LIYI3t8HP2iM",
    "outputId": "bd140f92-80d6-4a0f-9975-6d6133ee94e9"
   },
   "source": [
    "print(dbl_analogy_google_results)"
   ],
   "execution_count": null,
   "outputs": [
    {
     "output_type": "stream",
     "text": [
      "0.7082480556692591\n"
     ],
     "name": "stdout"
    }
   ]
  },
  {
   "cell_type": "markdown",
   "metadata": {
    "id": "JGuUDqhkNJNJ"
   },
   "source": [
    "## Categorization"
   ]
  },
  {
   "cell_type": "code",
   "metadata": {
    "id": "kqWIW4PUNJNJ"
   },
   "source": [
    "from web.evaluate import evaluate_categorization\n",
    "from web.datasets.categorization import fetch_BLESS, fetch_battig, fetch_AP, fetch_ESSLI_1a, fetch_ESSLI_2b, fetch_ESSLI_2c"
   ],
   "execution_count": null,
   "outputs": []
  },
  {
   "cell_type": "markdown",
   "metadata": {
    "id": "E940DauyNJNJ"
   },
   "source": [
    "### Glove"
   ]
  },
  {
   "cell_type": "code",
   "metadata": {
    "id": "m8BubSpvNJNJ"
   },
   "source": [
    "bless_data = fetch_BLESS()\n",
    "battig_data = fetch_battig()\n",
    "ap_data = fetch_AP()\n",
    "ESSLI_1a_data  = fetch_ESSLI_1a()\n",
    "ESSLI_2b_data  = fetch_ESSLI_2b()\n",
    "ESSLI_2c_data  = fetch_ESSLI_2c()"
   ],
   "execution_count": null,
   "outputs": []
  },
  {
   "cell_type": "code",
   "metadata": {
    "colab": {
     "base_uri": "https://localhost:8080/"
    },
    "id": "1SGvfkMSNJNJ",
    "outputId": "116e03a1-6578-45a6-85c1-7e8f1f3681f7"
   },
   "source": [
    "glove_cat_results_bless = evaluate_categorization(glove_dict, bless_data['X'], bless_data['y'])\n",
    "glove_cat_results_battig = evaluate_categorization(glove_dict, battig_data['X'], battig_data['y'])\n",
    "glove_cat_results_ap = evaluate_categorization(glove_dict, ap_data['X'], ap_data['y'])\n",
    "glove_cat_results_ESSLI_1a = evaluate_categorization(glove_dict, ESSLI_1a_data['X'], ESSLI_1a_data['y'])\n",
    "glove_cat_results_ESSLI_2b = evaluate_categorization(glove_dict, ESSLI_2b_data['X'], ESSLI_2b_data['y'])\n",
    "glove_cat_results_ESSLI_2c = evaluate_categorization(glove_dict, ESSLI_2c_data['X'], ESSLI_2c_data['y'])"
   ],
   "execution_count": null,
   "outputs": [
    {
     "output_type": "stream",
     "text": [
      "/content/drive/.shortcut-targets-by-id/1Aj4y870cQktsbomfGNEXbJwEQXSsQ6T5/CMPUT 654 Project/benchmarks/web/evaluate.py:88: FutureWarning: arrays to stack must be passed as a \"sequence\" type such as list or tuple. Support for non-sequence iterables such as generators is deprecated as of NumPy 1.16 and will raise an error in the future.\n",
      "  words = np.vstack(w.get(word, mean_vector) for word in X.flatten())\n",
      "/content/drive/.shortcut-targets-by-id/1Aj4y870cQktsbomfGNEXbJwEQXSsQ6T5/CMPUT 654 Project/benchmarks/web/evaluate.py:88: FutureWarning: arrays to stack must be passed as a \"sequence\" type such as list or tuple. Support for non-sequence iterables such as generators is deprecated as of NumPy 1.16 and will raise an error in the future.\n",
      "  words = np.vstack(w.get(word, mean_vector) for word in X.flatten())\n",
      "/content/drive/.shortcut-targets-by-id/1Aj4y870cQktsbomfGNEXbJwEQXSsQ6T5/CMPUT 654 Project/benchmarks/web/evaluate.py:88: FutureWarning: arrays to stack must be passed as a \"sequence\" type such as list or tuple. Support for non-sequence iterables such as generators is deprecated as of NumPy 1.16 and will raise an error in the future.\n",
      "  words = np.vstack(w.get(word, mean_vector) for word in X.flatten())\n",
      "/content/drive/.shortcut-targets-by-id/1Aj4y870cQktsbomfGNEXbJwEQXSsQ6T5/CMPUT 654 Project/benchmarks/web/evaluate.py:88: FutureWarning: arrays to stack must be passed as a \"sequence\" type such as list or tuple. Support for non-sequence iterables such as generators is deprecated as of NumPy 1.16 and will raise an error in the future.\n",
      "  words = np.vstack(w.get(word, mean_vector) for word in X.flatten())\n",
      "/content/drive/.shortcut-targets-by-id/1Aj4y870cQktsbomfGNEXbJwEQXSsQ6T5/CMPUT 654 Project/benchmarks/web/evaluate.py:88: FutureWarning: arrays to stack must be passed as a \"sequence\" type such as list or tuple. Support for non-sequence iterables such as generators is deprecated as of NumPy 1.16 and will raise an error in the future.\n",
      "  words = np.vstack(w.get(word, mean_vector) for word in X.flatten())\n",
      "/content/drive/.shortcut-targets-by-id/1Aj4y870cQktsbomfGNEXbJwEQXSsQ6T5/CMPUT 654 Project/benchmarks/web/evaluate.py:88: FutureWarning: arrays to stack must be passed as a \"sequence\" type such as list or tuple. Support for non-sequence iterables such as generators is deprecated as of NumPy 1.16 and will raise an error in the future.\n",
      "  words = np.vstack(w.get(word, mean_vector) for word in X.flatten())\n"
     ],
     "name": "stderr"
    }
   ]
  },
  {
   "cell_type": "code",
   "metadata": {
    "colab": {
     "base_uri": "https://localhost:8080/"
    },
    "id": "enMDabYeNJNK",
    "outputId": "82b32b64-a448-4390-c1ba-46717357da8f"
   },
   "source": [
    "print(\"BLESS: \" + str(glove_cat_results_bless))\n",
    "print(\"Battig: \" + str(glove_cat_results_battig))\n",
    "print(\"AP:\" + str(glove_cat_results_ap))\n",
    "print(glove_cat_results_ESSLI_1a)\n",
    "print(glove_cat_results_ESSLI_2b)\n",
    "print(glove_cat_results_ESSLI_2c)\n",
    "print(\"ESSLI_avg: \" + str((glove_cat_results_ESSLI_1a + glove_cat_results_ESSLI_2b + glove_cat_results_ESSLI_2c)/3))"
   ],
   "execution_count": null,
   "outputs": [
    {
     "output_type": "stream",
     "text": [
      "BLESS: 0.81\n",
      "Battig: 0.40126170904224817\n",
      "AP:0.5522388059701493\n",
      "0.7727272727272727\n",
      "0.775\n",
      "0.5777777777777778\n",
      "ESSLI_avg: 0.7085016835016836\n"
     ],
     "name": "stdout"
    }
   ]
  },
  {
   "cell_type": "markdown",
   "metadata": {
    "id": "J5pzY3tdvLHW"
   },
   "source": [
    "### Hard Debias Glove"
   ]
  },
  {
   "cell_type": "code",
   "metadata": {
    "colab": {
     "base_uri": "https://localhost:8080/"
    },
    "id": "P1Wj0Zj2NJNK",
    "outputId": "2e2a05ac-1803-48b4-f42e-a28bb1e21b95"
   },
   "source": [
    "hd_glove_cat_results_bless = evaluate_categorization(hd_glove_dict, bless_data['X'], bless_data['y'])\n",
    "hd_glove_cat_results_battig = evaluate_categorization(hd_glove_dict, battig_data['X'], battig_data['y'])\n",
    "hd_glove_cat_results_ap = evaluate_categorization(hd_glove_dict, ap_data['X'], ap_data['y'])\n",
    "hd_glove_cat_results_ESSLI_1a = evaluate_categorization(hd_glove_dict, ESSLI_1a_data['X'], ESSLI_1a_data['y'])\n",
    "hd_glove_cat_results_ESSLI_2b = evaluate_categorization(hd_glove_dict, ESSLI_2b_data['X'], ESSLI_2b_data['y'])\n",
    "hd_glove_cat_results_ESSLI_2c = evaluate_categorization(hd_glove_dict, ESSLI_2c_data['X'], ESSLI_2c_data['y'])"
   ],
   "execution_count": null,
   "outputs": [
    {
     "output_type": "stream",
     "text": [
      "/content/drive/.shortcut-targets-by-id/1Aj4y870cQktsbomfGNEXbJwEQXSsQ6T5/CMPUT 654 Project/benchmarks/web/evaluate.py:88: FutureWarning: arrays to stack must be passed as a \"sequence\" type such as list or tuple. Support for non-sequence iterables such as generators is deprecated as of NumPy 1.16 and will raise an error in the future.\n",
      "  words = np.vstack(w.get(word, mean_vector) for word in X.flatten())\n",
      "/content/drive/.shortcut-targets-by-id/1Aj4y870cQktsbomfGNEXbJwEQXSsQ6T5/CMPUT 654 Project/benchmarks/web/evaluate.py:88: FutureWarning: arrays to stack must be passed as a \"sequence\" type such as list or tuple. Support for non-sequence iterables such as generators is deprecated as of NumPy 1.16 and will raise an error in the future.\n",
      "  words = np.vstack(w.get(word, mean_vector) for word in X.flatten())\n",
      "/content/drive/.shortcut-targets-by-id/1Aj4y870cQktsbomfGNEXbJwEQXSsQ6T5/CMPUT 654 Project/benchmarks/web/evaluate.py:88: FutureWarning: arrays to stack must be passed as a \"sequence\" type such as list or tuple. Support for non-sequence iterables such as generators is deprecated as of NumPy 1.16 and will raise an error in the future.\n",
      "  words = np.vstack(w.get(word, mean_vector) for word in X.flatten())\n",
      "/content/drive/.shortcut-targets-by-id/1Aj4y870cQktsbomfGNEXbJwEQXSsQ6T5/CMPUT 654 Project/benchmarks/web/evaluate.py:88: FutureWarning: arrays to stack must be passed as a \"sequence\" type such as list or tuple. Support for non-sequence iterables such as generators is deprecated as of NumPy 1.16 and will raise an error in the future.\n",
      "  words = np.vstack(w.get(word, mean_vector) for word in X.flatten())\n",
      "/content/drive/.shortcut-targets-by-id/1Aj4y870cQktsbomfGNEXbJwEQXSsQ6T5/CMPUT 654 Project/benchmarks/web/evaluate.py:88: FutureWarning: arrays to stack must be passed as a \"sequence\" type such as list or tuple. Support for non-sequence iterables such as generators is deprecated as of NumPy 1.16 and will raise an error in the future.\n",
      "  words = np.vstack(w.get(word, mean_vector) for word in X.flatten())\n",
      "/content/drive/.shortcut-targets-by-id/1Aj4y870cQktsbomfGNEXbJwEQXSsQ6T5/CMPUT 654 Project/benchmarks/web/evaluate.py:88: FutureWarning: arrays to stack must be passed as a \"sequence\" type such as list or tuple. Support for non-sequence iterables such as generators is deprecated as of NumPy 1.16 and will raise an error in the future.\n",
      "  words = np.vstack(w.get(word, mean_vector) for word in X.flatten())\n"
     ],
     "name": "stderr"
    }
   ]
  },
  {
   "cell_type": "code",
   "metadata": {
    "colab": {
     "base_uri": "https://localhost:8080/"
    },
    "id": "8ndqgZsqv0vq",
    "outputId": "94478d74-d660-46d2-e182-41e5c1f11579"
   },
   "source": [
    "print(\"BLESS: \" + str(hd_glove_cat_results_bless))\n",
    "print(\"Battig: \" + str(hd_glove_cat_results_battig))\n",
    "print(\"AP: \" + str(hd_glove_cat_results_ap))\n",
    "print(hd_glove_cat_results_ESSLI_1a)\n",
    "print(hd_glove_cat_results_ESSLI_2b)\n",
    "print(hd_glove_cat_results_ESSLI_2c)\n",
    "print(\"ESSLI_avg: \" + str((hd_glove_cat_results_ESSLI_1a + hd_glove_cat_results_ESSLI_2b + hd_glove_cat_results_ESSLI_2c)/3))"
   ],
   "execution_count": null,
   "outputs": [
    {
     "output_type": "stream",
     "text": [
      "BLESS: 0.84\n",
      "Battig: 0.39915886063850126\n",
      "AP:0.6194029850746269\n",
      "0.7954545454545455\n",
      "0.8\n",
      "0.6444444444444445\n",
      "ESSLI_avg: 0.7466329966329966\n"
     ],
     "name": "stdout"
    }
   ]
  },
  {
   "cell_type": "markdown",
   "metadata": {
    "id": "8ui--mcESZu7"
   },
   "source": [
    "### Double Hard Debias Glove"
   ]
  },
  {
   "cell_type": "code",
   "metadata": {
    "id": "ukb5yxYVwYDt",
    "colab": {
     "base_uri": "https://localhost:8080/"
    },
    "outputId": "e1847921-0711-4383-ef27-2754feba6b12"
   },
   "source": [
    "dbl_glove_cat_results_bless = evaluate_categorization(dbl_glove_dict, bless_data['X'], bless_data['y'])\n",
    "dbl_glove_cat_results_battig = evaluate_categorization(dbl_glove_dict, battig_data['X'], battig_data['y'])\n",
    "dbl_glove_cat_results_ap = evaluate_categorization(dbl_glove_dict, ap_data['X'], ap_data['y'])\n",
    "dbl_glove_cat_results_ESSLI_1a = evaluate_categorization(dbl_glove_dict, ESSLI_1a_data['X'], ESSLI_1a_data['y'])\n",
    "dbl_glove_cat_results_ESSLI_2b = evaluate_categorization(dbl_glove_dict, ESSLI_2b_data['X'], ESSLI_2b_data['y'])\n",
    "dbl_glove_cat_results_ESSLI_2c = evaluate_categorization(dbl_glove_dict, ESSLI_2c_data['X'], ESSLI_2c_data['y'])"
   ],
   "execution_count": null,
   "outputs": [
    {
     "output_type": "stream",
     "text": [
      "/content/drive/.shortcut-targets-by-id/1Aj4y870cQktsbomfGNEXbJwEQXSsQ6T5/CMPUT 654 Project/benchmarks/web/evaluate.py:88: FutureWarning: arrays to stack must be passed as a \"sequence\" type such as list or tuple. Support for non-sequence iterables such as generators is deprecated as of NumPy 1.16 and will raise an error in the future.\n",
      "  words = np.vstack(w.get(word, mean_vector) for word in X.flatten())\n",
      "/content/drive/.shortcut-targets-by-id/1Aj4y870cQktsbomfGNEXbJwEQXSsQ6T5/CMPUT 654 Project/benchmarks/web/evaluate.py:88: FutureWarning: arrays to stack must be passed as a \"sequence\" type such as list or tuple. Support for non-sequence iterables such as generators is deprecated as of NumPy 1.16 and will raise an error in the future.\n",
      "  words = np.vstack(w.get(word, mean_vector) for word in X.flatten())\n",
      "/content/drive/.shortcut-targets-by-id/1Aj4y870cQktsbomfGNEXbJwEQXSsQ6T5/CMPUT 654 Project/benchmarks/web/evaluate.py:88: FutureWarning: arrays to stack must be passed as a \"sequence\" type such as list or tuple. Support for non-sequence iterables such as generators is deprecated as of NumPy 1.16 and will raise an error in the future.\n",
      "  words = np.vstack(w.get(word, mean_vector) for word in X.flatten())\n",
      "/content/drive/.shortcut-targets-by-id/1Aj4y870cQktsbomfGNEXbJwEQXSsQ6T5/CMPUT 654 Project/benchmarks/web/evaluate.py:88: FutureWarning: arrays to stack must be passed as a \"sequence\" type such as list or tuple. Support for non-sequence iterables such as generators is deprecated as of NumPy 1.16 and will raise an error in the future.\n",
      "  words = np.vstack(w.get(word, mean_vector) for word in X.flatten())\n",
      "/content/drive/.shortcut-targets-by-id/1Aj4y870cQktsbomfGNEXbJwEQXSsQ6T5/CMPUT 654 Project/benchmarks/web/evaluate.py:88: FutureWarning: arrays to stack must be passed as a \"sequence\" type such as list or tuple. Support for non-sequence iterables such as generators is deprecated as of NumPy 1.16 and will raise an error in the future.\n",
      "  words = np.vstack(w.get(word, mean_vector) for word in X.flatten())\n",
      "/content/drive/.shortcut-targets-by-id/1Aj4y870cQktsbomfGNEXbJwEQXSsQ6T5/CMPUT 654 Project/benchmarks/web/evaluate.py:88: FutureWarning: arrays to stack must be passed as a \"sequence\" type such as list or tuple. Support for non-sequence iterables such as generators is deprecated as of NumPy 1.16 and will raise an error in the future.\n",
      "  words = np.vstack(w.get(word, mean_vector) for word in X.flatten())\n"
     ],
     "name": "stderr"
    }
   ]
  },
  {
   "cell_type": "code",
   "metadata": {
    "colab": {
     "base_uri": "https://localhost:8080/"
    },
    "id": "41LC51PWSmrt",
    "outputId": "e7f686e8-a8a1-4510-904d-f78a9d535d20"
   },
   "source": [
    "print(\"BLESS: \" + str(dbl_glove_cat_results_bless))\n",
    "print(\"Battig: \" + str(dbl_glove_cat_results_battig))\n",
    "print(\"AP: \" + str(dbl_glove_cat_results_ap))\n",
    "print(dbl_glove_cat_results_ESSLI_1a)\n",
    "print(dbl_glove_cat_results_ESSLI_2b)\n",
    "print(dbl_glove_cat_results_ESSLI_2c)\n",
    "print(\"ESSLI_avg: \" + str((dbl_glove_cat_results_ESSLI_1a + dbl_glove_cat_results_ESSLI_2b + dbl_glove_cat_results_ESSLI_2c)/3))"
   ],
   "execution_count": null,
   "outputs": [
    {
     "output_type": "stream",
     "text": [
      "BLESS: 0.84\n",
      "Battig: 0.40011470082202255\n",
      "AP: 0.6293532338308457\n",
      "0.7954545454545455\n",
      "0.75\n",
      "0.5777777777777778\n",
      "ESSLI_avg: 0.7077441077441078\n"
     ],
     "name": "stdout"
    }
   ]
  }
 ]
}